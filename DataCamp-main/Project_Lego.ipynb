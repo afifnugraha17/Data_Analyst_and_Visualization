{
 "cells": [
  {
   "cell_type": "markdown",
   "metadata": {
    "dc": {
     "key": "3"
    },
    "deletable": false,
    "editable": false,
    "run_control": {
     "frozen": true
    },
    "tags": [
     "context"
    ]
   },
   "source": [
    "## # Introduction\n",
    "<p><img src=\"https://assets.datacamp.com/production/project_981/img/lego_unsplash.jpg\" alt=\"A picture of Lego characters!\"></p>\n",
    "<h3 id=\"letslookatlegosets\">Let's look at Lego sets!</h3>\n",
    "<p>Lego is a household name across the world, supported by a diverse toy line, hit movies, and a series of successful video games. In this project, we are going to explore a key development in the history of Lego: the introduction of licensed sets such as Star Wars, Super Heroes, and Harry Potter.</p>\n",
    "<p>It may not be widely known, but Lego has had its share of ups and downs since its inception in the early 20th century. This includes a particularly rough period in the late 90s. As described in <a href=\"https://www.businessinsider.com/how-lego-made-a-huge-turnaround-2014-2?r=US&IR=T\">this article</a>, Lego was only able to survive due to a successful internal brand (Bionicle) and the introduction of its first licensed series: Star Wars. In the instructions panel are the two questions you will need to answer to complete this project.</p>\n",
    "<p>Before diving into our analysis though, let's become familiar with the two datasets that will help you with this project:<br><br></p>\n",
    "<div style=\"background-color: #ebf4f7; color: #595959; text-align:left; vertical-align: middle; padding: 15px 25px 15px 25px; line-height: 1.6;\">\n",
    "    <div style=\"font-size:20px\"><b>datasets/lego_sets.csv</b></div>\n",
    "<ul>\n",
    "    <li><b>set_num:</b> A code that is unique to each set in the dataset. <b><i>This column is critical, and a missing value indicates the set is a duplicate or invalid!</i></b></li>\n",
    "    <li><b>set_name:</b> A name for every set in the dataset (note that this can be the same for different sets).</li>\n",
    "    <li><b>year:</b> The date the set was released.</li>\n",
    "    <li><b>num_parts:</b> The number of parts contained in the set.<b><i> This column is not central to our analyses, so missing values are acceptable.</i></b></li>\n",
    "        <li><b>theme_name:</b> The name of the sub-theme of the set.</li>\n",
    "    <li><b>parent_theme:</b> The name of the parent theme the set belongs to. Matches the `name` column of the `parent_themes` csv file.</li>\n",
    "</ul>\n",
    "\n",
    "<div style=\"font-size:20px\"><b>datasets/parent_themes.csv</b></div>\n",
    "<ul>\n",
    "    <li><b>id:</b> A code that is unique to every theme.</li>\n",
    "    <li><b>name:</b> The name of the parent theme.</li>\n",
    "    <li><b>is_licensed:</b> A Boolean column specifying whether the theme is a licensed theme.</li>\n",
    "</ul>\n",
    "    </div>\n",
    "<p>From here on out, it will be your task to explore and manipulate the existing data until you are able to answer the two questions described in the instructions panel. Feel free to add as many cells as necessary. Finally, remember that you are only tested on your answer, not on the methods you use to arrive at the answer!</p>\n",
    "<p><em><strong>Note:</strong> If you haven't completed a DataCamp project before you should check out the <a href=\"https://projects.datacamp.com/projects/33\">Intro to Projects</a> first to learn about the interface. In this project, you also need to know your way around <code>pandas</code> DataFrames and it's recommended that you take a look at the course <a href=\"https://www.datacamp.com/courses/data-manipulation-with-pandas\">Data Manipulation with pandas</a>.</em></p>"
   ]
  },
  {
   "cell_type": "code",
   "execution_count": 225,
   "metadata": {
    "dc": {
     "key": "3"
    },
    "tags": [
     "sample_code"
    ]
   },
   "outputs": [],
   "source": [
    "# Use this cell to begin your analyses, and add as many cells as you would like!\n",
    "import pandas as pd\n",
    "import numpy as np\n",
    "import matplotlib.pyplot as plt\n",
    "from matplotlib.pyplot import xticks"
   ]
  },
  {
   "cell_type": "code",
   "execution_count": 226,
   "metadata": {
    "collapsed": true,
    "dc": {
     "key": "3"
    },
    "jupyter": {
     "outputs_hidden": true
    }
   },
   "outputs": [],
   "source": [
    "# Import data from csv\n",
    "lego_set = pd.read_csv('datasets/lego_sets.csv')\n",
    "parent_theme = pd.read_csv('datasets/parent_themes.csv')"
   ]
  },
  {
   "cell_type": "markdown",
   "metadata": {
    "dc": {
     "key": "3"
    }
   },
   "source": [
    "## Understand lego_set data"
   ]
  },
  {
   "cell_type": "code",
   "execution_count": 227,
   "metadata": {
    "dc": {
     "key": "3"
    }
   },
   "outputs": [
    {
     "data": {
      "text/html": [
       "<div>\n",
       "<style scoped>\n",
       "    .dataframe tbody tr th:only-of-type {\n",
       "        vertical-align: middle;\n",
       "    }\n",
       "\n",
       "    .dataframe tbody tr th {\n",
       "        vertical-align: top;\n",
       "    }\n",
       "\n",
       "    .dataframe thead th {\n",
       "        text-align: right;\n",
       "    }\n",
       "</style>\n",
       "<table border=\"1\" class=\"dataframe\">\n",
       "  <thead>\n",
       "    <tr style=\"text-align: right;\">\n",
       "      <th></th>\n",
       "      <th>set_num</th>\n",
       "      <th>name</th>\n",
       "      <th>year</th>\n",
       "      <th>num_parts</th>\n",
       "      <th>theme_name</th>\n",
       "      <th>parent_theme</th>\n",
       "    </tr>\n",
       "  </thead>\n",
       "  <tbody>\n",
       "    <tr>\n",
       "      <th>0</th>\n",
       "      <td>00-1</td>\n",
       "      <td>Weetabix Castle</td>\n",
       "      <td>1970</td>\n",
       "      <td>471.0</td>\n",
       "      <td>Castle</td>\n",
       "      <td>Legoland</td>\n",
       "    </tr>\n",
       "    <tr>\n",
       "      <th>1</th>\n",
       "      <td>0011-2</td>\n",
       "      <td>Town Mini-Figures</td>\n",
       "      <td>1978</td>\n",
       "      <td>NaN</td>\n",
       "      <td>Supplemental</td>\n",
       "      <td>Town</td>\n",
       "    </tr>\n",
       "    <tr>\n",
       "      <th>2</th>\n",
       "      <td>0011-3</td>\n",
       "      <td>Castle 2 for 1 Bonus Offer</td>\n",
       "      <td>1987</td>\n",
       "      <td>NaN</td>\n",
       "      <td>Lion Knights</td>\n",
       "      <td>Castle</td>\n",
       "    </tr>\n",
       "    <tr>\n",
       "      <th>3</th>\n",
       "      <td>0012-1</td>\n",
       "      <td>Space Mini-Figures</td>\n",
       "      <td>1979</td>\n",
       "      <td>12.0</td>\n",
       "      <td>Supplemental</td>\n",
       "      <td>Space</td>\n",
       "    </tr>\n",
       "    <tr>\n",
       "      <th>4</th>\n",
       "      <td>0013-1</td>\n",
       "      <td>Space Mini-Figures</td>\n",
       "      <td>1979</td>\n",
       "      <td>12.0</td>\n",
       "      <td>Supplemental</td>\n",
       "      <td>Space</td>\n",
       "    </tr>\n",
       "  </tbody>\n",
       "</table>\n",
       "</div>"
      ],
      "text/plain": [
       "  set_num                        name  year  num_parts    theme_name  \\\n",
       "0    00-1             Weetabix Castle  1970      471.0        Castle   \n",
       "1  0011-2           Town Mini-Figures  1978        NaN  Supplemental   \n",
       "2  0011-3  Castle 2 for 1 Bonus Offer  1987        NaN  Lion Knights   \n",
       "3  0012-1          Space Mini-Figures  1979       12.0  Supplemental   \n",
       "4  0013-1          Space Mini-Figures  1979       12.0  Supplemental   \n",
       "\n",
       "  parent_theme  \n",
       "0     Legoland  \n",
       "1         Town  \n",
       "2       Castle  \n",
       "3        Space  \n",
       "4        Space  "
      ]
     },
     "execution_count": 227,
     "metadata": {},
     "output_type": "execute_result"
    }
   ],
   "source": [
    "lego_set.head()"
   ]
  },
  {
   "cell_type": "code",
   "execution_count": 228,
   "metadata": {
    "dc": {
     "key": "3"
    }
   },
   "outputs": [
    {
     "name": "stdout",
     "output_type": "stream",
     "text": [
      "<class 'pandas.core.frame.DataFrame'>\n",
      "RangeIndex: 11986 entries, 0 to 11985\n",
      "Data columns (total 6 columns):\n",
      " #   Column        Non-Null Count  Dtype  \n",
      "---  ------        --------------  -----  \n",
      " 0   set_num       11833 non-null  object \n",
      " 1   name          11833 non-null  object \n",
      " 2   year          11986 non-null  int64  \n",
      " 3   num_parts     6926 non-null   float64\n",
      " 4   theme_name    11833 non-null  object \n",
      " 5   parent_theme  11986 non-null  object \n",
      "dtypes: float64(1), int64(1), object(4)\n",
      "memory usage: 562.0+ KB\n"
     ]
    }
   ],
   "source": [
    "lego_set.info()"
   ]
  },
  {
   "cell_type": "markdown",
   "metadata": {
    "dc": {
     "key": "3"
    }
   },
   "source": [
    "There's missing values at columns: set_num, name, num_parts, theme_name. However, missing values in num_parts are acceptable so we keep it that way. For the other columns, we'll remove the missing values in set_num columns because the rows are duplicate or invalid."
   ]
  },
  {
   "cell_type": "code",
   "execution_count": 229,
   "metadata": {
    "dc": {
     "key": "3"
    }
   },
   "outputs": [],
   "source": [
    "# Remove missing values\n",
    "lego_set = lego_set[lego_set['set_num'].notnull()]"
   ]
  },
  {
   "cell_type": "code",
   "execution_count": 230,
   "metadata": {
    "dc": {
     "key": "3"
    }
   },
   "outputs": [
    {
     "name": "stdout",
     "output_type": "stream",
     "text": [
      "<class 'pandas.core.frame.DataFrame'>\n",
      "Int64Index: 11833 entries, 0 to 11832\n",
      "Data columns (total 6 columns):\n",
      " #   Column        Non-Null Count  Dtype  \n",
      "---  ------        --------------  -----  \n",
      " 0   set_num       11833 non-null  object \n",
      " 1   name          11833 non-null  object \n",
      " 2   year          11833 non-null  int64  \n",
      " 3   num_parts     6835 non-null   float64\n",
      " 4   theme_name    11833 non-null  object \n",
      " 5   parent_theme  11833 non-null  object \n",
      "dtypes: float64(1), int64(1), object(4)\n",
      "memory usage: 647.1+ KB\n"
     ]
    }
   ],
   "source": [
    "# Check if the missing values is removed\n",
    "lego_set.info()"
   ]
  },
  {
   "cell_type": "markdown",
   "metadata": {
    "dc": {
     "key": "3"
    }
   },
   "source": [
    "### Lego Year Production\n",
    "\n",
    "Now we want to check how much lego was producted in years"
   ]
  },
  {
   "cell_type": "code",
   "execution_count": 231,
   "metadata": {
    "dc": {
     "key": "3"
    }
   },
   "outputs": [
    {
     "data": {
      "text/plain": [
       "2014    715\n",
       "2015    670\n",
       "2012    615\n",
       "2016    608\n",
       "2013    593\n",
       "       ... \n",
       "1965     10\n",
       "1950      7\n",
       "1953      4\n",
       "1959      4\n",
       "1960      3\n",
       "Name: year, Length: 66, dtype: int64"
      ]
     },
     "execution_count": 231,
     "metadata": {},
     "output_type": "execute_result"
    }
   ],
   "source": [
    "# Count year values\n",
    "lego_set['year'].value_counts()"
   ]
  },
  {
   "cell_type": "code",
   "execution_count": 232,
   "metadata": {
    "dc": {
     "key": "3"
    }
   },
   "outputs": [
    {
     "data": {
      "image/png": "[encoded data removed]",
      "text/plain": [
       "<Figure size 432x288 with 1 Axes>"
      ]
     },
     "metadata": {
      "needs_background": "light"
     },
     "output_type": "display_data"
    }
   ],
   "source": [
    "# Define variable for plot line graph\n",
    "lego_year_prod = pd.DataFrame(lego_set['year'].value_counts()).rename(columns={'year': 'Produced'}).sort_index(ascending=False)\n",
    "\n",
    "# Plot\n",
    "_ = plt.plot(lego_year_prod)\n",
    "_ = plt.xlabel('year')\n",
    "_ = plt.ylabel('produced')\n",
    "_ = plt.title('Lego Production Over The Years (1950 - 2016)')\n",
    "_ = plt.grid(True)\n",
    "\n",
    "plt.show()"
   ]
  },
  {
   "cell_type": "markdown",
   "metadata": {
    "dc": {
     "key": "3"
    }
   },
   "source": [
    "### Quick Analysis\n",
    "\n",
    "As we can see that lego production is increasing over the years in overall. There's some spikes production at around 1987, 1995 - 2003. There's also some production decline at around 2006 and 2015. \n",
    "\n",
    "We can tell that each values in data set is unique (because there's set_num columns that differentiate each values in data), so there will be no duplicate data in each row and each data is unique so it is safe to do this analysis."
   ]
  },
  {
   "cell_type": "markdown",
   "metadata": {
    "dc": {
     "key": "3"
    }
   },
   "source": [
    "## Understand parent_theme data"
   ]
  },
  {
   "cell_type": "code",
   "execution_count": 233,
   "metadata": {
    "dc": {
     "key": "3"
    }
   },
   "outputs": [
    {
     "data": {
      "text/html": [
       "<div>\n",
       "<style scoped>\n",
       "    .dataframe tbody tr th:only-of-type {\n",
       "        vertical-align: middle;\n",
       "    }\n",
       "\n",
       "    .dataframe tbody tr th {\n",
       "        vertical-align: top;\n",
       "    }\n",
       "\n",
       "    .dataframe thead th {\n",
       "        text-align: right;\n",
       "    }\n",
       "</style>\n",
       "<table border=\"1\" class=\"dataframe\">\n",
       "  <thead>\n",
       "    <tr style=\"text-align: right;\">\n",
       "      <th></th>\n",
       "      <th>id</th>\n",
       "      <th>name</th>\n",
       "      <th>is_licensed</th>\n",
       "    </tr>\n",
       "  </thead>\n",
       "  <tbody>\n",
       "    <tr>\n",
       "      <th>0</th>\n",
       "      <td>1</td>\n",
       "      <td>Technic</td>\n",
       "      <td>False</td>\n",
       "    </tr>\n",
       "    <tr>\n",
       "      <th>1</th>\n",
       "      <td>22</td>\n",
       "      <td>Creator</td>\n",
       "      <td>False</td>\n",
       "    </tr>\n",
       "    <tr>\n",
       "      <th>2</th>\n",
       "      <td>50</td>\n",
       "      <td>Town</td>\n",
       "      <td>False</td>\n",
       "    </tr>\n",
       "    <tr>\n",
       "      <th>3</th>\n",
       "      <td>112</td>\n",
       "      <td>Racers</td>\n",
       "      <td>False</td>\n",
       "    </tr>\n",
       "    <tr>\n",
       "      <th>4</th>\n",
       "      <td>126</td>\n",
       "      <td>Space</td>\n",
       "      <td>False</td>\n",
       "    </tr>\n",
       "  </tbody>\n",
       "</table>\n",
       "</div>"
      ],
      "text/plain": [
       "    id     name  is_licensed\n",
       "0    1  Technic        False\n",
       "1   22  Creator        False\n",
       "2   50     Town        False\n",
       "3  112   Racers        False\n",
       "4  126    Space        False"
      ]
     },
     "execution_count": 233,
     "metadata": {},
     "output_type": "execute_result"
    }
   ],
   "source": [
    "parent_theme.head()"
   ]
  },
  {
   "cell_type": "code",
   "execution_count": 234,
   "metadata": {
    "dc": {
     "key": "3"
    }
   },
   "outputs": [
    {
     "name": "stdout",
     "output_type": "stream",
     "text": [
      "<class 'pandas.core.frame.DataFrame'>\n",
      "RangeIndex: 111 entries, 0 to 110\n",
      "Data columns (total 3 columns):\n",
      " #   Column       Non-Null Count  Dtype \n",
      "---  ------       --------------  ----- \n",
      " 0   id           111 non-null    int64 \n",
      " 1   name         111 non-null    object\n",
      " 2   is_licensed  111 non-null    bool  \n",
      "dtypes: bool(1), int64(1), object(1)\n",
      "memory usage: 2.0+ KB\n"
     ]
    }
   ],
   "source": [
    "parent_theme.info()"
   ]
  },
  {
   "cell_type": "code",
   "execution_count": 235,
   "metadata": {
    "dc": {
     "key": "3"
    }
   },
   "outputs": [],
   "source": [
    "# Get all licensed parent theme\n",
    "lic_theme = parent_theme[parent_theme['is_licensed'] == True]\n",
    "\n",
    "# Filter lego_set with license theme\n",
    "lego_lic = lego_set[lego_set['parent_theme'].isin(lic_theme['name'])]"
   ]
  },
  {
   "cell_type": "code",
   "execution_count": 236,
   "metadata": {
    "dc": {
     "key": "3"
    }
   },
   "outputs": [
    {
     "name": "stdout",
     "output_type": "stream",
     "text": [
      "['Angry Birds' 'Avatar' 'Ben 10' 'Cars' 'Disney' 'Disney Princess'\n",
      " \"Disney's Mickey Mouse\" 'Ghostbusters' 'Harry Potter' 'Indiana Jones'\n",
      " 'Jurassic World' 'Minecraft' 'Pirates of the Caribbean'\n",
      " 'Prince of Persia' 'Scooby-Doo' 'SpongeBob SquarePants' 'Star Wars'\n",
      " 'Super Heroes' 'Teenage Mutant Ninja Turtles'\n",
      " 'The Hobbit and Lord of the Rings' 'The Lone Ranger' 'Toy Story']\n",
      "107                         Angry Birds\n",
      "33                               Avatar\n",
      "19                               Ben 10\n",
      "18                                 Cars\n",
      "109                              Disney\n",
      "95                      Disney Princess\n",
      "43                Disney's Mickey Mouse\n",
      "108                        Ghostbusters\n",
      "12                         Harry Potter\n",
      "17                        Indiana Jones\n",
      "103                      Jurassic World\n",
      "93                            Minecraft\n",
      "16             Pirates of the Caribbean\n",
      "20                     Prince of Persia\n",
      "104                          Scooby-Doo\n",
      "21                SpongeBob SquarePants\n",
      "7                             Star Wars\n",
      "77                         Super Heroes\n",
      "89         Teenage Mutant Ninja Turtles\n",
      "88     The Hobbit and Lord of the Rings\n",
      "91                      The Lone Ranger\n",
      "23                            Toy Story\n",
      "Name: name, dtype: object\n"
     ]
    }
   ],
   "source": [
    "# Check if the licensed theme is same on lego_set and parent_theme data\n",
    "print(np.sort(lego_lic['parent_theme'].unique()))\n",
    "print(lic_theme['name'].sort_values())"
   ]
  },
  {
   "cell_type": "code",
   "execution_count": 237,
   "metadata": {
    "dc": {
     "key": "3"
    }
   },
   "outputs": [
    {
     "name": "stdout",
     "output_type": "stream",
     "text": [
      "51\n"
     ]
    }
   ],
   "source": [
    "# What percentage of all licensed sets ever released were Star Wars themed?\n",
    "the_force = int((len(lego_lic[lego_lic['parent_theme'] == 'Star Wars']) / len(lego_lic)) * 100)\n",
    "print(the_force)"
   ]
  },
  {
   "cell_type": "code",
   "execution_count": 238,
   "metadata": {
    "dc": {
     "key": "3"
    }
   },
   "outputs": [],
   "source": [
    "# In which year was Star Wars not the most popular \n",
    "# licensed theme (in terms of number of sets released that year)?\n",
    "\n",
    "sw_lego = lego_lic[lego_lic['parent_theme'] == 'Star Wars']"
   ]
  },
  {
   "cell_type": "code",
   "execution_count": 239,
   "metadata": {
    "dc": {
     "key": "3"
    }
   },
   "outputs": [
    {
     "data": {
      "text/plain": [
       "2016    61\n",
       "2015    58\n",
       "2017    55\n",
       "2014    45\n",
       "2012    43\n",
       "2009    39\n",
       "2013    35\n",
       "2003    32\n",
       "2011    32\n",
       "2010    30\n",
       "2002    28\n",
       "2005    28\n",
       "2000    26\n",
       "2008    23\n",
       "2004    20\n",
       "2007    16\n",
       "2001    14\n",
       "1999    13\n",
       "2006    11\n",
       "Name: year, dtype: int64"
      ]
     },
     "execution_count": 239,
     "metadata": {},
     "output_type": "execute_result"
    }
   ],
   "source": [
    "sw_lego['year'].value_counts()"
   ]
  },
  {
   "cell_type": "code",
   "execution_count": 240,
   "metadata": {
    "dc": {
     "key": "3"
    }
   },
   "outputs": [
    {
     "data": {
      "image/png": "[encoded data removed]",
      "text/plain": [
       "<Figure size 432x288 with 1 Axes>"
      ]
     },
     "metadata": {
      "needs_background": "light"
     },
     "output_type": "display_data"
    }
   ],
   "source": [
    "# Define variable for plot line graph\n",
    "sw_lego_year = pd.DataFrame(sw_lego['year'].value_counts()).rename(columns={'year': 'Produced'}).sort_index(ascending=False)\n",
    "\n",
    "# Plot\n",
    "_ = plt.plot(sw_lego_year)\n",
    "_ = plt.xlabel('year')\n",
    "\n",
    "xticks(np.arange(min(sw_lego['year'].value_counts().index), \n",
    "                     max(sw_lego['year'].value_counts().index)+2,\n",
    "                     step=2)) #Set xticks label\n",
    "\n",
    "_ = plt.ylabel('produced')\n",
    "_ = plt.title('Star Wars Lego Production Over The Years (1999 - 2017)')\n",
    "_ = plt.grid(True)\n",
    "\n",
    "plt.show()"
   ]
  },
  {
   "cell_type": "code",
   "execution_count": 241,
   "metadata": {
    "dc": {
     "key": "3"
    }
   },
   "outputs": [
    {
     "name": "stdout",
     "output_type": "stream",
     "text": [
      "2017\n"
     ]
    }
   ],
   "source": [
    "new_era = 2017\n",
    "print(new_era)"
   ]
  }
 ],
 "metadata": {
  "kernelspec": {
   "display_name": "Python 3 (ipykernel)",
   "language": "python",
   "name": "python3"
  },
  "language_info": {
   "codemirror_mode": {
    "name": "ipython",
    "version": 3
   },
   "file_extension": ".py",
   "mimetype": "text/x-python",
   "name": "python",
   "nbconvert_exporter": "python",
   "pygments_lexer": "ipython3",
   "version": "3.8.10"
  }
 },
 "nbformat": 4,
 "nbformat_minor": 4
}
